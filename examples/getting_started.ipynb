{
 "cells": [
  {
   "cell_type": "markdown",
   "id": "997dedd4",
   "metadata": {},
   "source": [
    "# Defining a network\n",
    "Describing our network to be run on the hardware (or the python simulator) is done using three data structures, corresponding to three dictionaries:\n",
    "- config\n",
    "- axons\n",
    "- connections\n",
    "\n",
    "In this notebook, we will setup the following example network:\n"
   ]
  },
  {
   "attachments": {
    "l2s_example.png": {
     "image/png": "[encoded data removed]"
    }
   },
   "cell_type": "markdown",
   "id": "3febcdf0",
   "metadata": {},
   "source": [
    "![l2s_example.png](attachment:l2s_example.png)"
   ]
  },
  {
   "cell_type": "markdown",
   "id": "811c0fd4",
   "metadata": {},
   "source": [
    "## Defining a configuration dictionary\n",
    "\n",
    "The configuration dictionary specifies some properties that are shared by every neuron in the network:\n",
    "\n",
    "| Parameter   | Description |\n",
    "| :-          | :-          |\n",
    "| neuron_type | the type of neuron model used to calculate membrane potentials. Possible assignments: |\n",
    "| <ul><li>I&F</li></ul> | integrate and fire |\n",
    "| <ul><li> </li></ul>   | binary threshold   |\n",
    "| <ul><li>LIF</li></ul> | leaky integrate and fire |\n",
    "| global_neuron_params | a sub-dictionary of the configuration dictionary, contains: |\n",
    "| <ul><li>v_thr</li></ul> | sets the membrane potential threshold for all neurons in the network |\n",
    "| <ul><li>v_rst</li></ul> | |\n",
    "| <ul><li>v_alpha</li></ul> | |"
   ]
  },
  {
   "cell_type": "code",
   "execution_count": 19,
   "id": "e3258f67",
   "metadata": {},
   "outputs": [],
   "source": [
    "config = {}\n",
    "config['neuron_type'] = \"I&F\" # use integrate-and-fire neurons\n",
    "\n",
    "config['global_neuron_params'] = {}\n",
    "config['global_neuron_params']['v_thr'] = 4\n",
    "config['global_neuron_params']['v_rst'] = 0\n",
    "config['global_neuron_params']['v_alpha'] = 0 # this is only needed for leaky integrate-and-fire neurons\n",
    "\n",
    "# are there other neuron parameters?"
   ]
  },
  {
   "cell_type": "markdown",
   "id": "ee69d69c",
   "metadata": {},
   "source": [
    "## Defining the axons dictionary\n",
    "The axons dictionary configures inputs to the network. Axons are synapses to neurons in the network that the user can manually send spikes over at a given timestep. \n",
    "\n",
    "Below is a template for the axons dictionary:\n",
    "\n",
    "```\n",
    "axons = {\n",
    "    'name of axon': [\n",
    "        ('name of neuron', weight), \n",
    "        ('name of neuron', weight), \n",
    "        ...\n",
    "    ],\n",
    "    'name of axon': [\n",
    "        ('name of neuron', weight), \n",
    "        ('name of neuron', weight), \n",
    "        ...\n",
    "    ],\n",
    "    ...\n",
    "}\n",
    "```\n",
    "\n",
    "Each key in the dictionary is the name of an axon. \n",
    "\n",
    "Each value is a list of two-element tuples, where each tuple defines an in-going synapse to a neuron. The first element is the name of a neuron in the network and the second element is the weight of the synaptic connection. \n",
    "\n",
    "Synapse weights must be integers, but they may be positive or negative."
   ]
  },
  {
   "cell_type": "code",
   "execution_count": 44,
   "id": "788e9fbb",
   "metadata": {},
   "outputs": [],
   "source": [
    "axons = {\n",
    "    'alpha': [('a', 3)],\n",
    "    'beta': [('b', 3), ('c', 2), ('d', 1)]\n",
    "}"
   ]
  },
  {
   "cell_type": "markdown",
   "id": "39761a6f",
   "metadata": {},
   "source": [
    "## Defining the connections dictionary\n",
    "The connections dictionary defines the neurons in the network and the connections between them. \n",
    "\n",
    "Below is a template for the connections dictionary:\n",
    "\n",
    "```\n",
    "connections = {\n",
    "    'name of pre-synaptic neuron': [\n",
    "        ('name of post-synaptic neuron', weight), \n",
    "        ('name of post-synaptic neuron', weight), \n",
    "        ...\n",
    "    ],\n",
    "    'name of pre-synaptic neuron': [], # can be left empty\n",
    "    ...\n",
    "}\n",
    "```\n",
    "\n",
    "Each key in the dictionary is the name of a neuron. Note that the names of neurons in the connections dictionary and the names of axons in the axons dictionary must be mutually exclusive. \n",
    "\n",
    "Each value is a list of two element tuples. Each tuple defines a synapse between neurons in the network. The first element is the name of the postsynaptic neuron and the the second element is the weight of the synapse. \n",
    "\n",
    "Synapse weights must be integers but they may be positive or negative. \n",
    "\n",
    "If a neuron has no outgoing synapses it’s synapse list may be left empty."
   ]
  },
  {
   "cell_type": "code",
   "execution_count": 45,
   "id": "220571b3",
   "metadata": {},
   "outputs": [],
   "source": [
    "connections = {\n",
    "    'a': [('b', 1)],\n",
    "    'b': [],\n",
    "    'c': [],\n",
    "    'd': [('c', -1)]\n",
    "}"
   ]
  },
  {
   "cell_type": "markdown",
   "id": "25426a27",
   "metadata": {},
   "source": [
    "# Initializing a network\n",
    "Once we’ve defined the above dictionaries we must pass them to the ```CRI_network``` constructor to create a ```CRI_network``` object."
   ]
  },
  {
   "cell_type": "code",
   "execution_count": 54,
   "id": "31ac496a",
   "metadata": {},
   "outputs": [],
   "source": [
    "# may need l2s in path, or start notebook from the the /L2S directory\n",
    "# % cd ..\n",
    "# ! ls\n",
    "\n",
    "from l2s.api import CRI_network"
   ]
  },
  {
   "cell_type": "code",
   "execution_count": 55,
   "id": "5ba5fea9",
   "metadata": {},
   "outputs": [
    {
     "name": "stdout",
     "output_type": "stream",
     "text": [
      "moo\n"
     ]
    }
   ],
   "source": [
    "network = CRI_network(\n",
    "    axons=axons,\n",
    "    connections=connections,\n",
    "    config=config,\n",
    "    inputs=[],\n",
    ")"
   ]
  },
  {
   "cell_type": "markdown",
   "id": "dc60e689",
   "metadata": {},
   "source": [
    "# Running a timestep\n",
    "Once we’ve constructed an CRI_network object we can run a timestep. We do so by calling the ```step()``` method of CRI_network. This method expects a single input called inputs. \n",
    "\n",
    "Inputs defines the inputs to the network at the current timestep as a list of axon names that you wish to carry spikes into the network at the current timestep. An empty list could be supplied if no external input is to be provided for a given step.\n",
    "\n",
    "```step()``` outputs the membrane potential of each neuron in the network."
   ]
  },
  {
   "cell_type": "code",
   "execution_count": 56,
   "id": "1b87037a",
   "metadata": {},
   "outputs": [
    {
     "data": {
      "text/plain": [
       "[('a', 3.0), ('b', 3.0), ('c', 2.0), ('d', 1.0)]"
      ]
     },
     "execution_count": 56,
     "metadata": {},
     "output_type": "execute_result"
    }
   ],
   "source": [
    "network.step(inputs=['alpha', 'beta'] ) # deliver a spike each over axons 'alpha' and 'beta'"
   ]
  },
  {
   "cell_type": "code",
   "execution_count": 57,
   "id": "954a59cc",
   "metadata": {},
   "outputs": [
    {
     "data": {
      "text/plain": [
       "[('a', 3.0), ('b', 3.0), ('c', 2.0), ('d', 1.0)]"
      ]
     },
     "execution_count": 57,
     "metadata": {},
     "output_type": "execute_result"
    }
   ],
   "source": [
    "network.step([]) # no input"
   ]
  },
  {
   "cell_type": "code",
   "execution_count": 58,
   "id": "8c963b14",
   "metadata": {},
   "outputs": [
    {
     "data": {
      "text/plain": [
       "[('a', 6.0), ('b', 3.0), ('c', 2.0), ('d', 1.0)]"
      ]
     },
     "execution_count": 58,
     "metadata": {},
     "output_type": "execute_result"
    }
   ],
   "source": [
    "network.step(['alpha']) # 'a' will have exceeded its threshold, but it fires at the next step."
   ]
  },
  {
   "cell_type": "code",
   "execution_count": 59,
   "id": "7c0aeadc",
   "metadata": {},
   "outputs": [
    {
     "data": {
      "text/plain": [
       "[('a', 0.0), ('b', 4.0), ('c', 2.0), ('d', 1.0)]"
      ]
     },
     "execution_count": 59,
     "metadata": {},
     "output_type": "execute_result"
    }
   ],
   "source": [
    "network.step([]) # 'a' has fired now, and it resets to v_rst = 0\n",
    "# note that 'b' gets an input from 'a', and its now at its threshold too, but it must exceed its threshold to fire."
   ]
  },
  {
   "cell_type": "code",
   "execution_count": 60,
   "id": "5db63f01",
   "metadata": {},
   "outputs": [
    {
     "data": {
      "text/plain": [
       "[('a', 0.0), ('b', 7.0), ('c', 4.0), ('d', 2.0)]"
      ]
     },
     "execution_count": 60,
     "metadata": {},
     "output_type": "execute_result"
    }
   ],
   "source": [
    "network.step(['beta']) # now 'b' has exceeded its threshold"
   ]
  },
  {
   "cell_type": "code",
   "execution_count": 61,
   "id": "b66845f5",
   "metadata": {},
   "outputs": [
    {
     "data": {
      "text/plain": [
       "[('a', 0.0), ('b', 0.0), ('c', 4.0), ('d', 2.0)]"
      ]
     },
     "execution_count": 61,
     "metadata": {},
     "output_type": "execute_result"
    }
   ],
   "source": [
    "network.step([]) # 'b' will have fired now"
   ]
  },
  {
   "cell_type": "code",
   "execution_count": null,
   "id": "aecc35da",
   "metadata": {},
   "outputs": [],
   "source": []
  }
 ],
 "metadata": {
  "kernelspec": {
   "display_name": "Python 3 (ipykernel)",
   "language": "python",
   "name": "python3"
  },
  "language_info": {
   "codemirror_mode": {
    "name": "ipython",
    "version": 3
   },
   "file_extension": ".py",
   "mimetype": "text/x-python",
   "name": "python",
   "nbconvert_exporter": "python",
   "pygments_lexer": "ipython3",
   "version": "3.9.12"
  }
 },
 "nbformat": 4,
 "nbformat_minor": 5
}
