{
 "cells": [
  {
   "cell_type": "markdown",
   "id": "150e21e5",
   "metadata": {},
   "source": [
    "# Defining a network\n",
    "Describing our network to be run on the hardware (or the python simulator) is done using three data structures, corresponding to three dictionaries:\n",
    "- config\n",
    "- axons\n",
    "- connections\n",
    "\n",
    "In this notebook, we will setup the following example network with two axons, here named $\\alpha$ and $\\beta$, bringing in external inputs to a network of four neurons $a$, $b$, $c$, and $d$.\n"
   ]
  },
  {
   "attachments": {
    "l2s_example.png": {
     "image/png": "[encoded data removed]"
    }
   },
   "cell_type": "markdown",
   "id": "18512ab8",
   "metadata": {},
   "source": [
    "![l2s_example.png](attachment:l2s_example.png)"
   ]
  },
  {
   "cell_type": "markdown",
   "id": "239aa8ad",
   "metadata": {},
   "source": [
    "## Defining a configuration dictionary\n",
    "\n",
    "The configuration dictionary specifies some properties that are shared by every neuron in the network:\n",
    "\n",
    "| Parameter   | Description |\n",
    "| :-          | :-          |\n",
    "| neuron_type | the type of neuron model used to calculate membrane potentials. Possible assignments: |\n",
    "| <ul><li>ANN</li></ul> | memoryless neuron (resets its membrane voltage to 0 with each step) |\n",
    "| <ul><li>I&F</li></ul> | integrate and fire neuron |\n",
    "| <ul><li>LI&F</li></ul> | leaky integrate and fire neuron: loses 1/8th of its membrane voltage with each step (can be updated on the FPGA) |\n",
    "| global_neuron_params | a sub-dictionary of the configuration dictionary, contains: |\n",
    "| <ul><li>v_thr</li></ul> | sets the membrane potential threshold for all neurons in the network |\n",
    "| <ul><li>v_rst</li></ul> | the membrane potential the neuron resets to after firing, default 0. Note: this parameter is currently not user-writeable but can be made available as needed. |\n",
    "| <ul><li>v_alpha</li></ul> | the amount of leak for the LI&F neuron, default 1/8th of the neuron's membrane potential. Note: this parameter is currently not user-writeable but can be made available as needed. |"
   ]
  },
  {
   "cell_type": "code",
   "execution_count": 1,
   "id": "555179bd",
   "metadata": {},
   "outputs": [],
   "source": [
    "config = {}\n",
    "config['neuron_type'] = \"I&F\" # use integrate-and-fire neurons\n",
    "\n",
    "config['global_neuron_params'] = {}\n",
    "config['global_neuron_params']['v_thr'] = 4\n",
    "\n",
    "# The following parameters are not exposed, but they can be as needed:\n",
    "# config['global_neuron_params']['v_rst'] = 0 # this is to reset the neuron's membrane potential to some non-zero v_rst\n",
    "# config['global_neuron_params']['v_alpha'] = 0 # this is only needed for leaky integrate-and-fire neurons"
   ]
  },
  {
   "cell_type": "markdown",
   "id": "54079c2a",
   "metadata": {},
   "source": [
    "## Defining the axons dictionary\n",
    "The axons dictionary configures inputs to the network. Axons are synapses to neurons in the network that the user can manually send spikes over at a given timestep. \n",
    "\n",
    "Below is a template for the axons dictionary:\n",
    "\n",
    "```\n",
    "axons = {\n",
    "    'name of axon': [\n",
    "        ('name of neuron', weight), \n",
    "        ('name of neuron', weight), \n",
    "        ...\n",
    "    ],\n",
    "    'name of axon': [\n",
    "        ('name of neuron', weight), \n",
    "        ('name of neuron', weight), \n",
    "        ...\n",
    "    ],\n",
    "    ...\n",
    "}\n",
    "```\n",
    "\n",
    "Each key in the dictionary is the name of an axon. \n",
    "\n",
    "Each value is a list of two-element tuples, where each tuple defines an in-going synapse to a neuron. The first element is the name of a neuron in the network and the second element is the weight of the synaptic connection. \n",
    "\n",
    "Synapse weights must be integers, but they may be positive or negative."
   ]
  },
  {
   "cell_type": "code",
   "execution_count": 2,
   "id": "09dce51f",
   "metadata": {},
   "outputs": [],
   "source": [
    "axons = {\n",
    "    'alpha': [('a', 3)],\n",
    "    'beta': [('b', 3), ('c', 2), ('d', 1)]\n",
    "}"
   ]
  },
  {
   "cell_type": "markdown",
   "id": "55efe674",
   "metadata": {},
   "source": [
    "## Defining the connections dictionary\n",
    "The connections dictionary defines the neurons in the network and the connections between them. \n",
    "\n",
    "Below is a template for the connections dictionary:\n",
    "\n",
    "```\n",
    "connections = {\n",
    "    'name of pre-synaptic neuron': [\n",
    "        ('name of post-synaptic neuron', weight), \n",
    "        ('name of post-synaptic neuron', weight), \n",
    "        ...\n",
    "    ],\n",
    "    'name of pre-synaptic neuron': [], # can be left empty\n",
    "    ...\n",
    "}\n",
    "```\n",
    "\n",
    "Each key in the dictionary is the name of a neuron. Note that the names of neurons in the connections dictionary and the names of axons in the axons dictionary must be mutually exclusive. \n",
    "\n",
    "Each value is a list of two element tuples. Each tuple defines a synapse between neurons in the network. The first element is the name of the postsynaptic neuron and the the second element is the weight of the synapse. \n",
    "\n",
    "Synapse weights must be integers but they may be positive or negative. \n",
    "\n",
    "If a neuron has no outgoing synapses it’s synapse list may be left empty."
   ]
  },
  {
   "cell_type": "code",
   "execution_count": 3,
   "id": "bca96249",
   "metadata": {},
   "outputs": [],
   "source": [
    "connections = {\n",
    "    'a': [('b', 1)],\n",
    "    'b': [],\n",
    "    'c': [],\n",
    "    'd': [('c', -1)]\n",
    "}"
   ]
  },
  {
   "cell_type": "markdown",
   "id": "05feabd3",
   "metadata": {},
   "source": [
    "# Initializing a network\n",
    "Once we’ve defined the above dictionaries we must pass them to the ```CRI_network``` constructor to create a ```CRI_network``` object."
   ]
  },
  {
   "cell_type": "code",
   "execution_count": 4,
   "id": "9578790a",
   "metadata": {},
   "outputs": [
    {
     "name": "stderr",
     "output_type": "stream",
     "text": [
      "WARNING:root:partitioning library failed to load, multicore disabled\n"
     ]
    },
    {
     "name": "stdout",
     "output_type": "stream",
     "text": [
      "hello, I got inited\n"
     ]
    }
   ],
   "source": [
    "# this notebook was launched from the /L2S/examples directory, but we need to import l2s from the parent directory\n",
    "# one quick way is to add the parent directoy to path:\n",
    "import sys\n",
    "sys.path.append(\"../\")\n",
    "\n",
    "# now import the CRI_network class, used below for creating a network object using the dictionaries above\n",
    "from l2s.api import CRI_network"
   ]
  },
  {
   "cell_type": "code",
   "execution_count": 5,
   "id": "43edbe5c",
   "metadata": {},
   "outputs": [
    {
     "name": "stdout",
     "output_type": "stream",
     "text": [
      "moo\n"
     ]
    }
   ],
   "source": [
    "network = CRI_network(\n",
    "    axons=axons,\n",
    "    connections=connections,\n",
    "    config=config\n",
    ")"
   ]
  },
  {
   "cell_type": "markdown",
   "id": "e7ccf5dc",
   "metadata": {},
   "source": [
    "# Stepping through the simulation\n",
    "Once we’ve constructed an CRI_network object we can run a timestep. We do so by calling the ```step()``` method of CRI_network. This method expects a single input called inputs. \n",
    "\n",
    "Inputs defines the inputs to the network at the current timestep as a list of axon names that you wish to carry spikes into the network at the current timestep. An empty list could be supplied if no external input is to be provided for a given step.\n",
    "\n",
    "```step()``` outputs the membrane potential of each neuron in the network."
   ]
  },
  {
   "cell_type": "code",
   "execution_count": 6,
   "id": "973bce93",
   "metadata": {},
   "outputs": [
    {
     "data": {
      "text/plain": [
       "{'membranePotentials': [('a', 3.0), ('b', 3.0), ('c', 2.0), ('d', 1.0)],\n",
       " 'firedNeurons': []}"
      ]
     },
     "execution_count": 6,
     "metadata": {},
     "output_type": "execute_result"
    }
   ],
   "source": [
    "network.step(inputs=['alpha', 'beta'] ) # deliver a spike each over axons 'alpha' and 'beta'"
   ]
  },
  {
   "cell_type": "code",
   "execution_count": 7,
   "id": "c9b63a75",
   "metadata": {},
   "outputs": [
    {
     "data": {
      "text/plain": [
       "{'membranePotentials': [('a', 3.0), ('b', 3.0), ('c', 2.0), ('d', 1.0)],\n",
       " 'firedNeurons': []}"
      ]
     },
     "execution_count": 7,
     "metadata": {},
     "output_type": "execute_result"
    }
   ],
   "source": [
    "network.step() # no input"
   ]
  },
  {
   "cell_type": "code",
   "execution_count": 8,
   "id": "3b5fc7d7",
   "metadata": {},
   "outputs": [
    {
     "data": {
      "text/plain": [
       "{'membranePotentials': [('a', 6.0), ('b', 3.0), ('c', 2.0), ('d', 1.0)],\n",
       " 'firedNeurons': []}"
      ]
     },
     "execution_count": 8,
     "metadata": {},
     "output_type": "execute_result"
    }
   ],
   "source": [
    "network.step(['alpha']) \n",
    "# 'a' will have exceeded its threshold, but it fires at the next step."
   ]
  },
  {
   "cell_type": "code",
   "execution_count": 9,
   "id": "ae1560bc",
   "metadata": {},
   "outputs": [
    {
     "data": {
      "text/plain": [
       "{'membranePotentials': [('a', 0.0), ('b', 4.0), ('c', 2.0), ('d', 1.0)],\n",
       " 'firedNeurons': ['a']}"
      ]
     },
     "execution_count": 9,
     "metadata": {},
     "output_type": "execute_result"
    }
   ],
   "source": [
    "network.step([]) \n",
    "# 'a' has fired now, and it resets to v_rst = 0\n",
    "# 'b' gets an input from 'a', and its now at its threshold too, but it must exceed its threshold to fire."
   ]
  },
  {
   "cell_type": "code",
   "execution_count": 10,
   "id": "7188eaf3",
   "metadata": {},
   "outputs": [
    {
     "data": {
      "text/plain": [
       "{'membranePotentials': [('a', 0.0), ('b', 7.0), ('c', 4.0), ('d', 2.0)],\n",
       " 'firedNeurons': []}"
      ]
     },
     "execution_count": 10,
     "metadata": {},
     "output_type": "execute_result"
    }
   ],
   "source": [
    "network.step(['beta']) \n",
    "# 'b' has exceeded its threshold"
   ]
  },
  {
   "cell_type": "code",
   "execution_count": 11,
   "id": "b88a7bd7",
   "metadata": {},
   "outputs": [
    {
     "data": {
      "text/plain": [
       "{'membranePotentials': [('a', 0.0), ('b', 0.0), ('c', 4.0), ('d', 2.0)],\n",
       " 'firedNeurons': ['b']}"
      ]
     },
     "execution_count": 11,
     "metadata": {},
     "output_type": "execute_result"
    }
   ],
   "source": [
    "network.step() \n",
    "# 'b' will have fired and reset now"
   ]
  },
  {
   "cell_type": "code",
   "execution_count": 12,
   "id": "f0a592de",
   "metadata": {},
   "outputs": [
    {
     "data": {
      "text/plain": [
       "{'membranePotentials': [('a', 0.0), ('b', 3.0), ('c', 6.0), ('d', 3.0)],\n",
       " 'firedNeurons': []}"
      ]
     },
     "execution_count": 12,
     "metadata": {},
     "output_type": "execute_result"
    }
   ],
   "source": [
    "network.step(['beta']) \n",
    "# 'c' is about to fire!"
   ]
  },
  {
   "cell_type": "code",
   "execution_count": 13,
   "id": "082e6ee2",
   "metadata": {},
   "outputs": [
    {
     "data": {
      "text/plain": [
       "{'membranePotentials': [('a', 0.0), ('b', 6.0), ('c', 2.0), ('d', 4.0)],\n",
       " 'firedNeurons': ['c']}"
      ]
     },
     "execution_count": 13,
     "metadata": {},
     "output_type": "execute_result"
    }
   ],
   "source": [
    "network.step(['beta']) \n",
    "# 'b' is about to fire\n",
    "# 'c' has fired and reset, and gotten a new input from 'beta'"
   ]
  },
  {
   "cell_type": "code",
   "execution_count": 14,
   "id": "1afaaabb",
   "metadata": {},
   "outputs": [
    {
     "data": {
      "text/plain": [
       "{'membranePotentials': [('a', 0.0), ('b', 3.0), ('c', 4.0), ('d', 5.0)],\n",
       " 'firedNeurons': ['b']}"
      ]
     },
     "execution_count": 14,
     "metadata": {},
     "output_type": "execute_result"
    }
   ],
   "source": [
    "network.step(['beta']) \n",
    "# 'b' has fired and reset, and gotten a new input from 'beta'\n",
    "# 'c' is at its threshold, but needs to exceed its threshold to fire\n",
    "# 'd' has exceeded its threshold, and will fire at the next step"
   ]
  },
  {
   "cell_type": "code",
   "execution_count": 15,
   "id": "2ca75a19",
   "metadata": {},
   "outputs": [
    {
     "data": {
      "text/plain": [
       "{'membranePotentials': [('a', 0.0), ('b', 3.0), ('c', 3.0), ('d', 0.0)],\n",
       " 'firedNeurons': ['d']}"
      ]
     },
     "execution_count": 15,
     "metadata": {},
     "output_type": "execute_result"
    }
   ],
   "source": [
    "network.step()\n",
    "# 'c' has gotten a negative input from 'd'\n",
    "# 'd' fired and reset"
   ]
  },
  {
   "cell_type": "markdown",
   "id": "49becf78",
   "metadata": {},
   "source": [
    "# Looping through the steps\n",
    "We could run through the same inputs again but now in a loop. The idea is to still call the ```step()``` method for each input, but we could define inputs as an iterable (such as a dictionary) and call ```step(inputs[index])``` in a loop:"
   ]
  },
  {
   "cell_type": "code",
   "execution_count": 16,
   "id": "c4a94f79",
   "metadata": {},
   "outputs": [
    {
     "name": "stdout",
     "output_type": "stream",
     "text": [
      "moo\n"
     ]
    },
    {
     "data": {
      "text/plain": [
       "{0: {'membranePotentials': [('a', 3.0), ('b', 3.0), ('c', 2.0), ('d', 1.0)],\n",
       "  'firedNeurons': []},\n",
       " 1: {'membranePotentials': [('a', 3.0), ('b', 3.0), ('c', 2.0), ('d', 1.0)],\n",
       "  'firedNeurons': []},\n",
       " 2: {'membranePotentials': [('a', 6.0), ('b', 3.0), ('c', 2.0), ('d', 1.0)],\n",
       "  'firedNeurons': []},\n",
       " 3: {'membranePotentials': [('a', 0.0), ('b', 4.0), ('c', 2.0), ('d', 1.0)],\n",
       "  'firedNeurons': ['a']},\n",
       " 4: {'membranePotentials': [('a', 0.0), ('b', 7.0), ('c', 4.0), ('d', 2.0)],\n",
       "  'firedNeurons': []},\n",
       " 5: {'membranePotentials': [('a', 0.0), ('b', 0.0), ('c', 4.0), ('d', 2.0)],\n",
       "  'firedNeurons': ['b']},\n",
       " 6: {'membranePotentials': [('a', 0.0), ('b', 3.0), ('c', 6.0), ('d', 3.0)],\n",
       "  'firedNeurons': []},\n",
       " 7: {'membranePotentials': [('a', 0.0), ('b', 6.0), ('c', 2.0), ('d', 4.0)],\n",
       "  'firedNeurons': ['c']},\n",
       " 8: {'membranePotentials': [('a', 0.0), ('b', 3.0), ('c', 4.0), ('d', 5.0)],\n",
       "  'firedNeurons': ['b']},\n",
       " 9: {'membranePotentials': [('a', 0.0), ('b', 3.0), ('c', 3.0), ('d', 0.0)],\n",
       "  'firedNeurons': ['d']}}"
      ]
     },
     "execution_count": 16,
     "metadata": {},
     "output_type": "execute_result"
    }
   ],
   "source": [
    "# The inputs can be defined using any iterable data structure.\n",
    "# Here we illustrate this using a dictionary keyed by time-step:\n",
    "inputs = {\n",
    "    0: ['alpha', 'beta'],\n",
    "    1: [],\n",
    "    2: ['alpha'],\n",
    "    3: [],\n",
    "    4: ['beta'],\n",
    "    5: [],\n",
    "    6: ['beta'],\n",
    "    7: ['beta'],\n",
    "    8: ['beta'],\n",
    "    9: [],\n",
    "}\n",
    "\n",
    "# number of simulation steps to run\n",
    "duration = max(inputs.keys()) + 1 # add 1 for time step 0\n",
    "\n",
    "# Re-instance the network (effectively resetting the state of all neurons)\n",
    "network = CRI_network(\n",
    "    axons=axons,\n",
    "    connections=connections,\n",
    "    config=config\n",
    ")\n",
    "\n",
    "# Define a data structure for collecting membrane voltage outputs from each step\n",
    "outputs = {}\n",
    "for t in range(duration):\n",
    "    outputs[t] = network.step(inputs[t])\n",
    "    \n",
    "# Display the membrane potential of each neuron for each time step\n",
    "outputs"
   ]
  },
  {
   "cell_type": "markdown",
   "id": "3436d733",
   "metadata": {},
   "source": [
    "# Visualizing outputs\n",
    "Here we provide some simple helper functions for visualizing the outputs of the small network in this example. This is only for pedagogical purposes, and other schemes could be used to handle outputs from large networks."
   ]
  },
  {
   "cell_type": "code",
   "execution_count": 17,
   "id": "f3a83b61",
   "metadata": {},
   "outputs": [],
   "source": [
    "import matplotlib.pyplot as plt\n",
    "\n",
    "def extractPotentials(outputs, makePlots=True):\n",
    "    \"\"\"\n",
    "    Extract a time-series of membrane potentials for each neuron in outputs. Generate plots as needed.\n",
    "    \n",
    "    Parameters\n",
    "    ----------\n",
    "    outputs : dict\n",
    "      Outputs dictionary containing membranePotentials and firedNeurons as returned by the python simulator. \n",
    "    makeplots : bool\n",
    "      Set to true to generate plots of membranePotentials for each neuron using matplotlib.\n",
    "\n",
    "    Returns\n",
    "    -------\n",
    "    voltageTraces : dict\n",
    "      A dictionary with time series of membrane potentials for each neuron in outputs.\n",
    "    \"\"\"\n",
    "    duration = max(inputs.keys())+1 # number of time steps in the trace\n",
    "    \n",
    "    voltageTraces = {} # empty container populated below with membrane potentials over time, keyed by neuron names\n",
    "    for t in range(duration):\n",
    "        for membranePotential in outputs[t]['membranePotentials']:\n",
    "            neuron = membranePotential[0] # get the neuron name from the outputs['membranePotential'] tuple\n",
    "            if not neuron in voltageTraces:\n",
    "                voltageTraces[neuron] = [] # create an empty list to collect membrane voltages as the loop progresses\n",
    "            voltageTraces[neuron].append(membranePotential[1]) # get the membrane voltage from the outputs['membranePotential'] tuple\n",
    "    \n",
    "    if makePlots:\n",
    "        # plot the voltage trace for each neuron\n",
    "        for neuron in voltageTraces.keys():\n",
    "            plt.plot(voltageTraces[neuron], label=neuron)\n",
    "\n",
    "        # plot a horizontal line corresponding to the threshold used\n",
    "        plt.axhline(y=config['global_neuron_params']['v_thr'], c='r', ls='--', label='threshold')\n",
    "\n",
    "        # plot formatting\n",
    "        plt.legend()\n",
    "        plt.xlim([0, duration])\n",
    "        plt.xlabel('Step#')\n",
    "        plt.ylabel('Membrane Potential')\n",
    "        \n",
    "    return voltageTraces\n",
    "\n",
    "def extractSpikes(outputs, makePlots=True):\n",
    "    duration = max(inputs.keys())+1 # number of time steps in the trace\n",
    "    \n",
    "    spikeTimes = {} # empty container populated below with membrane potentials over time, keyed by neuron names\n",
    "    for t in range(duration):\n",
    "        for spikes in outputs[t]['firedNeurons']:\n",
    "            if spikes != []: # some neuron(s) spiked\n",
    "                for neuron in spikes:\n",
    "                    if not neuron in spikeTimes: # add the neuron to the dict of spikeTraces\n",
    "                        spikeTimes[neuron] = [] # create an empty list to collect spike times for this neuron\n",
    "                        \n",
    "                    # now append the current time index to the neuron's spikes list:\n",
    "                    spikeTimes[neuron].append(t) \n",
    "                    \n",
    "    if makePlots:\n",
    "        # plot the voltage trace for each neuron\n",
    "        yOffset = 0\n",
    "        for neuron in spikeTimes.keys():\n",
    "            # make a spike raster for the selected neuron, keep colors consistent with key order\n",
    "            plt.eventplot(spikeTimes[neuron], \n",
    "                          lineoffsets=yOffset, \n",
    "                          color=plt.rcParams['axes.prop_cycle'].by_key()['color'][yOffset],\n",
    "                          label=neuron)\n",
    "            yOffset += 1\n",
    "            \n",
    "        # plot formatting\n",
    "        #plt.legend()\n",
    "        plt.yticks(ticks=range(yOffset), labels=spikeTimes.keys())\n",
    "        plt.xlim([0, duration])\n",
    "        plt.xlabel('Step#')\n",
    "        plt.ylabel('Spikes per neuron')\n",
    "        \n",
    "    return spikeTimes"
   ]
  },
  {
   "cell_type": "code",
   "execution_count": 18,
   "id": "c508ec6f",
   "metadata": {},
   "outputs": [
    {
     "data": {
      "text/plain": [
       "{'a': [3.0, 3.0, 6.0, 0.0, 0.0, 0.0, 0.0, 0.0, 0.0, 0.0],\n",
       " 'b': [3.0, 3.0, 3.0, 4.0, 7.0, 0.0, 3.0, 6.0, 3.0, 3.0],\n",
       " 'c': [2.0, 2.0, 2.0, 2.0, 4.0, 4.0, 6.0, 2.0, 4.0, 3.0],\n",
       " 'd': [1.0, 1.0, 1.0, 1.0, 2.0, 2.0, 3.0, 4.0, 5.0, 0.0]}"
      ]
     },
     "execution_count": 18,
     "metadata": {},
     "output_type": "execute_result"
    },
    {
     "data": {
      "image/png": "[encoded data removed]",
      "text/plain": [
       "<Figure size 432x288 with 1 Axes>"
      ]
     },
     "metadata": {
      "needs_background": "light"
     },
     "output_type": "display_data"
    }
   ],
   "source": [
    "# We can reorganize the membrane potentials into a time-series of membrane potentials of each neuron.\n",
    "voltageTraces = extractPotentials(outputs, makePlots=True)\n",
    "voltageTraces # display the extracted time series of membrane voltages"
   ]
  },
  {
   "cell_type": "code",
   "execution_count": 19,
   "id": "67f455b8",
   "metadata": {},
   "outputs": [
    {
     "data": {
      "text/plain": [
       "{'a': [3], 'b': [5, 8], 'c': [7], 'd': [9]}"
      ]
     },
     "execution_count": 19,
     "metadata": {},
     "output_type": "execute_result"
    },
    {
     "data": {
      "image/png": "[encoded data removed]",
      "text/plain": [
       "<Figure size 432x288 with 1 Axes>"
      ]
     },
     "metadata": {
      "needs_background": "light"
     },
     "output_type": "display_data"
    }
   ],
   "source": [
    "spikeTimes = extractSpikes(outputs, makePlots=True)\n",
    "spikeTimes"
   ]
  },
  {
   "cell_type": "code",
   "execution_count": null,
   "id": "ef6f91ec",
   "metadata": {},
   "outputs": [],
   "source": []
  }
 ],
 "metadata": {
  "kernelspec": {
   "display_name": "Python 3 (ipykernel)",
   "language": "python",
   "name": "python3"
  },
  "language_info": {
   "codemirror_mode": {
    "name": "ipython",
    "version": 3
   },
   "file_extension": ".py",
   "mimetype": "text/x-python",
   "name": "python",
   "nbconvert_exporter": "python",
   "pygments_lexer": "ipython3",
   "version": "3.9.12"
  }
 },
 "nbformat": 4,
 "nbformat_minor": 5
}
