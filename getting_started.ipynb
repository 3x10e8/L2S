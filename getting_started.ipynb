{
 "cells": [
  {
   "cell_type": "markdown",
   "metadata": {
    "colab_type": "text",
    "id": "view-in-github"
   },
   "source": [
    "<a href=\"https://colab.research.google.com/github/3x10e8/L2S/blob/main/getting_started.ipynb\" target=\"_parent\"><img src=\"https://colab.research.google.com/assets/colab-badge.svg\" alt=\"Open In Colab\"/></a>"
   ]
  },
  {
   "cell_type": "markdown",
   "metadata": {
    "id": "nIHdBmYqKfQi"
   },
   "source": [
    "# Simulation Flow\n",
    "In this example, we will work through the process of defining a neural network and generating the intermediate files needed to run this network on custom hardware.\n",
    "\n",
    "We will use numpy arrays to define the following:\n",
    "- Connectivity matrix\n",
    "- External inputs (axon) weights\n",
    "- Input stimuli\n",
    "\n",
    "Then we will sanity check the generated intermediate files by running them through a python simulator.\n"
   ]
  },
  {
   "cell_type": "markdown",
   "metadata": {
    "id": "4klpmHlnNzTS"
   },
   "source": [
    "# Environment Setup\n",
    "We begin by cloning a github repo containing helper functions for running simulations and generating the intermediate files."
   ]
  },
  {
   "cell_type": "code",
   "execution_count": 1,
   "metadata": {
    "colab": {
     "base_uri": "https://localhost:8080/"
    },
    "id": "IffCuRLWJGVC",
    "outputId": "7a81b74b-8967-4eef-a24e-236e76cf98fb"
   },
   "outputs": [
    {
     "name": "stdout",
     "output_type": "stream",
     "text": [
      "fatal: destination path 'L2S' already exists and is not an empty directory.\r\n"
     ]
    }
   ],
   "source": [
    "# Clone examples repo to colab server\n",
    "! git clone https://github.com/3x10e8/L2S.git"
   ]
  },
  {
   "cell_type": "code",
   "execution_count": 2,
   "metadata": {
    "id": "8qrjogn6JLF7"
   },
   "outputs": [],
   "source": [
    "import os\n",
    "import sys\n",
    "sys.path.insert(0, os.getcwd() + '/L2S')\n",
    "from L2S._intermediate_format import *\n",
    "from L2S._simple_sim import *\n",
    "\n",
    "import numpy as np\n",
    "import matplotlib.pyplot as plt"
   ]
  },
  {
   "cell_type": "markdown",
   "metadata": {
    "id": "8YYbuUdQhv64"
   },
   "source": [
    "# Network Connectivity\n",
    "For this example, let's consider the following network consisting of two neurons and one external input (axon):"
   ]
  },
  {
   "cell_type": "markdown",
   "metadata": {
    "id": "b2GpYZgaKC9k"
   },
   "source": [
    "![two_neurons.png](data:image/png;base64,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)\n",
    "\n"
   ]
  },
  {
   "cell_type": "code",
   "execution_count": 3,
   "metadata": {
    "id": "juIqEmCEKvPC"
   },
   "outputs": [],
   "source": [
    "N = 2 # number of neurons, represented as n0 and n1 above\n",
    "M = 1 # number of external inputs (axons), represented as a0"
   ]
  },
  {
   "cell_type": "markdown",
   "metadata": {
    "id": "yNbVO564hkBX"
   },
   "source": [
    "## Synaptic Weights\n",
    "We first define the weights $w_{ij}$ for the inter- and intra-neural connections:\n",
    "\n",
    "$\n",
    "W = \\begin{pmatrix}\n",
    "w_{00} & w_{01}\\\\\n",
    "w_{10} & w_{11}\n",
    "\\end{pmatrix}\n",
    "$\n",
    "\n",
    "Synaptic weights are defined here as floats where:\n",
    "- positive values are excitatory, \n",
    "- negative values are inhibitory, and \n",
    "- zeros represent no-connects."
   ]
  },
  {
   "cell_type": "code",
   "execution_count": 4,
   "metadata": {
    "colab": {
     "base_uri": "https://localhost:8080/"
    },
    "id": "W1RUH0iHJ5I6",
    "outputId": "73028d69-19bc-4587-cfae-366995f9bd76"
   },
   "outputs": [
    {
     "name": "stdout",
     "output_type": "stream",
     "text": [
      "Connectivity martix:\n",
      "[[0.  0.5]\n",
      " [0.  0. ]]\n"
     ]
    }
   ],
   "source": [
    "W = np.zeros(shape=(N, N), dtype=float)\n",
    "W[0][0] = 0     # autapse\n",
    "W[0][1] = 0.5   # synapse\n",
    "W[1][0] = 0     # synapse\n",
    "W[1][1] = 0     # autapse\n",
    "\n",
    "print('Connectivity martix:')\n",
    "print(W)\n",
    "#plt.imshow(W)  # for visualizing bigger matrices"
   ]
  },
  {
   "cell_type": "markdown",
   "metadata": {
    "id": "sQpn7duEjEMv"
   },
   "source": [
    "## External Input (Axon) Weights\n",
    "Next we define the external inputs to this network as axons:\n",
    "\n",
    "$\n",
    "A = \\begin{pmatrix}\n",
    "a_{00} & a_{01}\n",
    "\\end{pmatrix}\n",
    "$"
   ]
  },
  {
   "cell_type": "code",
   "execution_count": 5,
   "metadata": {
    "colab": {
     "base_uri": "https://localhost:8080/"
    },
    "id": "fQ8Gc7r_J838",
    "outputId": "c5241e83-7477-4b29-ee21-93b2125c850e"
   },
   "outputs": [
    {
     "name": "stdout",
     "output_type": "stream",
     "text": [
      "Axon weights:\n",
      "[[0.7 0. ]]\n"
     ]
    }
   ],
   "source": [
    "A = np.zeros(shape=(M, N), dtype=float)\n",
    "A[0][0] = 0.7\n",
    "A[0][1] = 0\n",
    "\n",
    "print('Axon weights:')\n",
    "print(A)"
   ]
  },
  {
   "cell_type": "markdown",
   "metadata": {
    "id": "wwu8CRezjZZx"
   },
   "source": [
    "# Input Stimuli\n",
    "Now with our network connections defined, we define inputs to the network as  time series currents coming in over each axon:\n"
   ]
  },
  {
   "cell_type": "code",
   "execution_count": 6,
   "metadata": {
    "colab": {
     "base_uri": "https://localhost:8080/",
     "height": 296
    },
    "id": "fh5EXf_iJeQd",
    "outputId": "14fb0fca-5b8d-4a54-ff44-65f5c58e4002"
   },
   "outputs": [
    {
     "name": "stdout",
     "output_type": "stream",
     "text": [
      "[[0. 0. 0. 0. 0. 1. 1. 1. 1. 1. 1. 1. 1. 1. 1. 1. 1. 1. 1. 1.]]\n"
     ]
    },
    {
     "data": {
      "image/png": "[encoded data removed]",
      "text/plain": [
       "<Figure size 432x288 with 1 Axes>"
      ]
     },
     "metadata": {
      "needs_background": "light"
     },
     "output_type": "display_data"
    }
   ],
   "source": [
    "# Spikes inputs over time\n",
    "num_steps = 20\n",
    "Iext = np.zeros(shape=(M, num_steps))\n",
    "Iext[0][5:] = 1 # send spikes from t=5 to t=19\n",
    "\n",
    "plt.plot(range(num_steps), Iext[0], 'x-')\n",
    "plt.xlabel('time step')\n",
    "plt.ylabel('$I_{ext}$ over $a_0$')\n",
    "print(Iext)"
   ]
  },
  {
   "cell_type": "markdown",
   "metadata": {
    "id": "CZct7TjdkbM-"
   },
   "source": [
    "# Generating Intermediate Files\n",
    "We will generate three text files which can then be used on hardware, or simulated as explored below:\n",
    "- connectivity file\n",
    "- inputs file\n",
    "- config file\n",
    "- output file (placeholder)"
   ]
  },
  {
   "cell_type": "markdown",
   "metadata": {
    "id": "Kx3ztp9Knce3"
   },
   "source": [
    "## Connectivity (connex) File\n",
    "This file captures synaptic and axon weights for our network:"
   ]
  },
  {
   "cell_type": "code",
   "execution_count": 7,
   "metadata": {
    "colab": {
     "base_uri": "https://localhost:8080/"
    },
    "id": "tPG2Dv3eK6mH",
    "outputId": "774cba43-93ba-4243-f15b-9b1988677eb9"
   },
   "outputs": [
    {
     "name": "stdout",
     "output_type": "stream",
     "text": [
      "Wrote connectivity file to: ./test_connectivity_2.txt\n",
      "----- Wrote -----\n",
      "Axons\n",
      "0: [(0, 0.7)]\n",
      "Neurons\n",
      "0: [(1, 0.5)]\n",
      "1: []\n"
     ]
    }
   ],
   "source": [
    "# Generate connectivity file\n",
    "connex_file_path = './test_connectivity_2.txt'\n",
    "write_conn_file(A, W, opath = connex_file_path, print_to_screen = True)"
   ]
  },
  {
   "cell_type": "markdown",
   "metadata": {
    "id": "KpfB1yfqoBIy"
   },
   "source": [
    "## Input File\n",
    "This file describes which axons $a_i$ are active for each time step:\n",
    "\n",
    "```\n",
    "<time step>: [<index of driven axon>]\n",
    "```\n"
   ]
  },
  {
   "cell_type": "code",
   "execution_count": 8,
   "metadata": {
    "colab": {
     "base_uri": "https://localhost:8080/"
    },
    "id": "sP21dL40LFlH",
    "outputId": "e306c08d-6086-4b44-ca21-5b3802426a65"
   },
   "outputs": [
    {
     "name": "stdout",
     "output_type": "stream",
     "text": [
      "Wrote input file to: ./test_inputs_2.txt\n",
      "----- Wrote -----\n",
      "0: []\n",
      "1: []\n",
      "2: []\n",
      "3: []\n",
      "4: []\n",
      "5: [0]\n",
      "6: [0]\n",
      "7: [0]\n",
      "8: [0]\n",
      "9: [0]\n",
      "10: [0]\n",
      "11: [0]\n",
      "12: [0]\n",
      "13: [0]\n",
      "14: [0]\n",
      "15: [0]\n",
      "16: [0]\n",
      "17: [0]\n",
      "18: [0]\n",
      "19: [0]\n"
     ]
    }
   ],
   "source": [
    "# Generate input file\n",
    "write_input_file(Iext, opath = './test_inputs_2.txt',\n",
    "                 print_to_screen = True)"
   ]
  },
  {
   "cell_type": "markdown",
   "metadata": {
    "id": "ZC6eSHRHr40I"
   },
   "source": [
    "# Output File\n"
   ]
  },
  {
   "cell_type": "code",
   "execution_count": 9,
   "metadata": {
    "id": "jfnNcd04r_Qo"
   },
   "outputs": [],
   "source": [
    "output_path = './out.txt'\n",
    "with open(output_path, 'w') as f:\n",
    "  f.write(\"\") # this is just a placeholder file"
   ]
  },
  {
   "cell_type": "markdown",
   "metadata": {
    "id": "b5Q55J_joe9l"
   },
   "source": [
    "## Config File"
   ]
  },
  {
   "cell_type": "code",
   "execution_count": 10,
   "metadata": {
    "colab": {
     "base_uri": "https://localhost:8080/"
    },
    "id": "-ZQGSxiaMWDC",
    "outputId": "02ccb37d-d396-4d59-c692-8a6e42b2d3a2"
   },
   "outputs": [
    {
     "name": "stdout",
     "output_type": "stream",
     "text": [
      "connectivity_file:\t ./test_connectivity_2.txt\n",
      "global_neuron_params:\t {'v_thr': 1}\n",
      "inputs_file:\t ./test_inputs_2.txt\n",
      "neuron_type:\t I&F\n",
      "outputs_file:\t ./out.txt\n"
     ]
    }
   ],
   "source": [
    "import yaml\n",
    "config_path = r'./config.yaml' # path for writing out config.yaml\n",
    "\n",
    "# Set config parameters\n",
    "config = {}\n",
    "#config['FPGA_cluster']\n",
    "config['inputs_file'] = './test_inputs_2.txt'\n",
    "config['connectivity_file'] = './test_connectivity_2.txt'\n",
    "config['outputs_file'] = './out.txt'\n",
    "\n",
    "config['neuron_type'] = \"I&F\"\n",
    "config['global_neuron_params'] = {}\n",
    "#config['global_neuron_params']['v_alpha']\n",
    "config['global_neuron_params']['v_thr'] = 1\n",
    "#config['global_neuron_params']['v_rst']\n",
    "#config['run_time']\n",
    "#config['n_ng']\n",
    "#config['ptrs_per_row']\n",
    "#config['data_per_row']\n",
    "\n",
    "# Write out updated config\n",
    "with open(config_path, 'w') as f:\n",
    "  yaml.dump(config, f)\n",
    "\n",
    "# Readback and print contents\n",
    "with open(config_path) as f:\n",
    "    config = yaml.safe_load(f)\n",
    "    #print(config)\n",
    "\n",
    "for key in config:\n",
    "  print(key + ':\\t', config[key])"
   ]
  },
  {
   "cell_type": "markdown",
   "metadata": {
    "id": "87tznztKrjzY"
   },
   "source": [
    "# Simulate"
   ]
  },
  {
   "cell_type": "code",
   "execution_count": 11,
   "metadata": {
    "colab": {
     "base_uri": "https://localhost:8080/"
    },
    "id": "2RcUXVFrrQGC",
    "outputId": "1ecc3c8f-ebf2-47c7-bb1e-a9f84505628e"
   },
   "outputs": [
    {
     "name": "stdout",
     "output_type": "stream",
     "text": [
      "0 []\n",
      "0 Vmem [0. 0.]\n",
      "1 []\n",
      "1 Vmem [0. 0.]\n",
      "2 []\n",
      "2 Vmem [0. 0.]\n",
      "3 []\n",
      "3 Vmem [0. 0.]\n",
      "4 []\n",
      "4 Vmem [0. 0.]\n",
      "5 []\n",
      "5 Vmem [0.7 0. ]\n",
      "6 []\n",
      "6 Vmem [1.4 0. ]\n",
      "7 [0]\n",
      "7 Vmem [0.7 0.5]\n",
      "8 []\n",
      "8 Vmem [1.4 0.5]\n",
      "9 [0]\n",
      "9 Vmem [0.7 1. ]\n",
      "10 []\n",
      "10 Vmem [1.4 1. ]\n",
      "11 [0]\n",
      "11 Vmem [0.7 1.5]\n",
      "12 [1]\n",
      "12 Vmem [1.4 0. ]\n",
      "13 [0]\n",
      "13 Vmem [0.7 0.5]\n",
      "14 []\n",
      "14 Vmem [1.4 0.5]\n",
      "15 [0]\n",
      "15 Vmem [0.7 1. ]\n",
      "16 []\n",
      "16 Vmem [1.4 1. ]\n",
      "17 [0]\n",
      "17 Vmem [0.7 1.5]\n",
      "18 [1]\n",
      "18 Vmem [1.4 0. ]\n",
      "19 [0]\n",
      "19 Vmem [0.7 0.5]\n",
      "____________\n"
     ]
    },
    {
     "ename": "TypeError",
     "evalue": "load() missing 1 required positional argument: 'Loader'",
     "output_type": "error",
     "traceback": [
      "\u001b[0;31m---------------------------------------------------------------------------\u001b[0m",
      "\u001b[0;31mTypeError\u001b[0m                                 Traceback (most recent call last)",
      "Input \u001b[0;32mIn [11]\u001b[0m, in \u001b[0;36m<cell line: 8>\u001b[0;34m()\u001b[0m\n\u001b[1;32m      6\u001b[0m simulate(\u001b[38;5;241m3\u001b[39m, \u001b[38;5;241m1\u001b[39m, axons, connections, inputs)\n\u001b[1;32m      7\u001b[0m \u001b[38;5;28mprint\u001b[39m(\u001b[38;5;124m\"\u001b[39m\u001b[38;5;124m____________\u001b[39m\u001b[38;5;124m\"\u001b[39m)\n\u001b[0;32m----> 8\u001b[0m \u001b[43mrun_sim\u001b[49m\u001b[43m(\u001b[49m\u001b[43m)\u001b[49m\n",
      "File \u001b[0;32m~/code/L2S/L2S/_simple_sim.py:297\u001b[0m, in \u001b[0;36mrun_sim\u001b[0;34m()\u001b[0m\n\u001b[1;32m    292\u001b[0m \u001b[38;5;124;03m\"\"\"Reads in netwokr parameters from config file and runs network simulation\u001b[39;00m\n\u001b[1;32m    293\u001b[0m \u001b[38;5;124;03mReads in network parameters from config.yaml and simulates the network. At each timestep fired neurons and post firing membrane potentials are printed to the terminal.\u001b[39;00m\n\u001b[1;32m    294\u001b[0m \n\u001b[1;32m    295\u001b[0m \u001b[38;5;124;03m\"\"\"\u001b[39;00m\n\u001b[1;32m    296\u001b[0m config_path \u001b[38;5;241m=\u001b[39m \u001b[38;5;124mr\u001b[39m\u001b[38;5;124m'\u001b[39m\u001b[38;5;124m./config.yaml\u001b[39m\u001b[38;5;124m'\u001b[39m\n\u001b[0;32m--> 297\u001b[0m config \u001b[38;5;241m=\u001b[39m \u001b[43mread_config\u001b[49m\u001b[43m(\u001b[49m\u001b[43mconfig_path\u001b[49m\u001b[43m)\u001b[49m\n\u001b[1;32m    299\u001b[0m \u001b[38;5;28minput\u001b[39m \u001b[38;5;241m=\u001b[39m config[\u001b[38;5;124m'\u001b[39m\u001b[38;5;124minputs_file\u001b[39m\u001b[38;5;124m'\u001b[39m]\n\u001b[1;32m    300\u001b[0m connex \u001b[38;5;241m=\u001b[39m config[\u001b[38;5;124m'\u001b[39m\u001b[38;5;124mconnectivity_file\u001b[39m\u001b[38;5;124m'\u001b[39m]\n",
      "File \u001b[0;32m~/code/L2S/L2S/_simple_sim.py:261\u001b[0m, in \u001b[0;36mread_config\u001b[0;34m(config_path)\u001b[0m\n\u001b[1;32m    247\u001b[0m \u001b[38;5;124;03m\"\"\"reads in the network configuaration file\u001b[39;00m\n\u001b[1;32m    248\u001b[0m \n\u001b[1;32m    249\u001b[0m \u001b[38;5;124;03mParameters\u001b[39;00m\n\u001b[0;32m   (...)\u001b[0m\n\u001b[1;32m    258\u001b[0m \n\u001b[1;32m    259\u001b[0m \u001b[38;5;124;03m\"\"\"\u001b[39;00m\n\u001b[1;32m    260\u001b[0m \u001b[38;5;28;01mwith\u001b[39;00m \u001b[38;5;28mopen\u001b[39m(config_path) \u001b[38;5;28;01mas\u001b[39;00m f:\n\u001b[0;32m--> 261\u001b[0m     config \u001b[38;5;241m=\u001b[39m \u001b[43myaml\u001b[49m\u001b[38;5;241;43m.\u001b[39;49m\u001b[43mload\u001b[49m\u001b[43m(\u001b[49m\u001b[43mf\u001b[49m\u001b[43m)\u001b[49m\n\u001b[1;32m    263\u001b[0m \u001b[38;5;28;01mreturn\u001b[39;00m config\n",
      "\u001b[0;31mTypeError\u001b[0m: load() missing 1 required positional argument: 'Loader'"
     ]
    }
   ],
   "source": [
    "axons, connections, inputs, outputs = load_network(\n",
    "    input='./test_inputs_2.txt', \n",
    "    connex='./test_connectivity_2.txt', \n",
    "    output='./out.txt')\n",
    "\n",
    "simulate(3, 1, axons, connections, inputs)\n",
    "print(\"____________\")\n",
    "run_sim()"
   ]
  },
  {
   "cell_type": "code",
   "execution_count": null,
   "metadata": {
    "id": "Vij6aJXIsSEa"
   },
   "outputs": [],
   "source": []
  }
 ],
 "metadata": {
  "colab": {
   "authorship_tag": "ABX9TyPFAovu0CsWOt1Me/0i9w3l",
   "include_colab_link": true,
   "name": "getting_started.ipynb",
   "provenance": [],
   "toc_visible": true
  },
  "kernelspec": {
   "display_name": "Python 3 (ipykernel)",
   "language": "python",
   "name": "python3"
  },
  "language_info": {
   "codemirror_mode": {
    "name": "ipython",
    "version": 3
   },
   "file_extension": ".py",
   "mimetype": "text/x-python",
   "name": "python",
   "nbconvert_exporter": "python",
   "pygments_lexer": "ipython3",
   "version": "3.9.10"
  }
 },
 "nbformat": 4,
 "nbformat_minor": 1
}
